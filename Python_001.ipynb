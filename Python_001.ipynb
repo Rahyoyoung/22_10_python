{
  "nbformat": 4,
  "nbformat_minor": 0,
  "metadata": {
    "colab": {
      "provenance": [],
      "authorship_tag": "ABX9TyNwCP/Wl8teEvkN6GTwbpGO",
      "include_colab_link": true
    },
    "kernelspec": {
      "name": "python3",
      "display_name": "Python 3"
    },
    "language_info": {
      "name": "python"
    }
  },
  "cells": [
    {
      "cell_type": "markdown",
      "metadata": {
        "id": "view-in-github",
        "colab_type": "text"
      },
      "source": [
        "<a href=\"https://colab.research.google.com/github/Rahyoyoung/22_10_python/blob/main/Python_001.ipynb\" target=\"_parent\"><img src=\"https://colab.research.google.com/assets/colab-badge.svg\" alt=\"Open In Colab\"/></a>"
      ]
    },
    {
      "cell_type": "code",
      "execution_count": null,
      "metadata": {
        "id": "oqgRtwrRlbIj"
      },
      "outputs": [],
      "source": []
    },
    {
      "cell_type": "markdown",
      "source": [
        "코랩과 깃헙의 첫번째 연결을 진행합니다."
      ],
      "metadata": {
        "id": "9k0Nz6H5ljCq"
      }
    },
    {
      "cell_type": "code",
      "source": [
        "print(\"Hello Github\")\n",
        "print(\"Hello Python\")\n",
        "print(\"안녕하세요?\")\n",
        "print(\"Programming에 입문하신것을 축하드립니다.\")"
      ],
      "metadata": {
        "colab": {
          "base_uri": "https://localhost:8080/"
        },
        "id": "R_T40x_jmtQ5",
        "outputId": "efc9fc17-4526-4522-f04d-aa21f8337617"
      },
      "execution_count": 5,
      "outputs": [
        {
          "output_type": "stream",
          "name": "stdout",
          "text": [
            "Hello Github\n",
            "Hello Python\n",
            "안녕하세요?\n",
            "Programming에 입문하신것을 축하드립니다.\n"
          ]
        }
      ]
    },
    {
      "cell_type": "code",
      "source": [
        "print(5+6)\n",
        "print(5-3)\n",
        "print(5/3)\n",
        "print(5//3)"
      ],
      "metadata": {
        "colab": {
          "base_uri": "https://localhost:8080/"
        },
        "id": "4PrG6Xqhp-rq",
        "outputId": "7627265a-7084-4cb5-d92a-7163c8a68952"
      },
      "execution_count": 6,
      "outputs": [
        {
          "output_type": "stream",
          "name": "stdout",
          "text": [
            "11\n",
            "2\n",
            "1.6666666666666667\n",
            "1\n"
          ]
        }
      ]
    },
    {
      "cell_type": "code",
      "source": [
        "print(\"사랑해\" * 10)"
      ],
      "metadata": {
        "colab": {
          "base_uri": "https://localhost:8080/"
        },
        "id": "lUBJy8-OrJUa",
        "outputId": "c7a2d044-f5c3-47ee-8bf1-085ba861c784"
      },
      "execution_count": 7,
      "outputs": [
        {
          "output_type": "stream",
          "name": "stdout",
          "text": [
            "사랑해사랑해사랑해사랑해사랑해사랑해사랑해사랑해사랑해사랑해\n"
          ]
        }
      ]
    },
    {
      "cell_type": "code",
      "source": [
        "print(3.141592 * 10.0 * 10.0)\n",
        "print((1/100) * 1234)"
      ],
      "metadata": {
        "colab": {
          "base_uri": "https://localhost:8080/"
        },
        "id": "f4yGMphVrVMa",
        "outputId": "68c8a412-6d50-446b-aeb7-b2e6fb99d460"
      },
      "execution_count": 9,
      "outputs": [
        {
          "output_type": "stream",
          "name": "stdout",
          "text": [
            "314.1592\n",
            "12.34\n"
          ]
        }
      ]
    },
    {
      "cell_type": "code",
      "source": [
        "ftemp = 90.0\n",
        "ctemp = ((ftemp-32.0)* 5.0/9.0)\n",
        "print(ctemp)"
      ],
      "metadata": {
        "colab": {
          "base_uri": "https://localhost:8080/"
        },
        "id": "6H2BHJRYr_aq",
        "outputId": "21270d84-8455-42f8-a92a-af4d458cc83b"
      },
      "execution_count": 10,
      "outputs": [
        {
          "output_type": "stream",
          "name": "stdout",
          "text": [
            "32.22222222222222\n"
          ]
        }
      ]
    }
  ]
}